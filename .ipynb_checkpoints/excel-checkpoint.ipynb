{
 "cells": [
  {
   "cell_type": "code",
   "execution_count": 2,
   "id": "eee3536c",
   "metadata": {},
   "outputs": [],
   "source": [
    "import pandas as pd\n",
    "import numpy as np"
   ]
  },
  {
   "cell_type": "code",
   "execution_count": 9,
   "id": "da194228",
   "metadata": {},
   "outputs": [],
   "source": [
    "book = pd.read_excel('Book1.xlsx', sheet_name ='Sheet2')"
   ]
  },
  {
   "cell_type": "code",
   "execution_count": 11,
   "id": "a9acc59d",
   "metadata": {},
   "outputs": [],
   "source": [
    "book.iloc[0,0] =34"
   ]
  },
  {
   "cell_type": "code",
   "execution_count": 12,
   "id": "8cc9a106",
   "metadata": {},
   "outputs": [
    {
     "data": {
      "text/html": [
       "<div>\n",
       "<style scoped>\n",
       "    .dataframe tbody tr th:only-of-type {\n",
       "        vertical-align: middle;\n",
       "    }\n",
       "\n",
       "    .dataframe tbody tr th {\n",
       "        vertical-align: top;\n",
       "    }\n",
       "\n",
       "    .dataframe thead th {\n",
       "        text-align: right;\n",
       "    }\n",
       "</style>\n",
       "<table border=\"1\" class=\"dataframe\">\n",
       "  <thead>\n",
       "    <tr style=\"text-align: right;\">\n",
       "      <th></th>\n",
       "      <th>Train3</th>\n",
       "      <th>Speed3</th>\n",
       "      <th>City3</th>\n",
       "    </tr>\n",
       "  </thead>\n",
       "  <tbody>\n",
       "    <tr>\n",
       "      <th>0</th>\n",
       "      <td>34</td>\n",
       "      <td>500</td>\n",
       "      <td>rampur</td>\n",
       "    </tr>\n",
       "    <tr>\n",
       "      <th>1</th>\n",
       "      <td>545643</td>\n",
       "      <td>123</td>\n",
       "      <td>kolkata</td>\n",
       "    </tr>\n",
       "    <tr>\n",
       "      <th>2</th>\n",
       "      <td>125464</td>\n",
       "      <td>297</td>\n",
       "      <td>bareilly</td>\n",
       "    </tr>\n",
       "    <tr>\n",
       "      <th>3</th>\n",
       "      <td>564523</td>\n",
       "      <td>456</td>\n",
       "      <td>antarctica</td>\n",
       "    </tr>\n",
       "  </tbody>\n",
       "</table>\n",
       "</div>"
      ],
      "text/plain": [
       "   Train3  Speed3       City3\n",
       "0      34     500      rampur\n",
       "1  545643     123     kolkata\n",
       "2  125464     297    bareilly\n",
       "3  564523     456  antarctica"
      ]
     },
     "execution_count": 12,
     "metadata": {},
     "output_type": "execute_result"
    }
   ],
   "source": [
    "book"
   ]
  },
  {
   "cell_type": "code",
   "execution_count": 14,
   "id": "df3b2c48",
   "metadata": {},
   "outputs": [],
   "source": [
    "book.to_excel('Book1.xlsx', sheet_name ='Sheet2')"
   ]
  },
  {
   "cell_type": "code",
   "execution_count": null,
   "id": "c72350f8",
   "metadata": {},
   "outputs": [],
   "source": []
  }
 ],
 "metadata": {
  "kernelspec": {
   "display_name": "Python 3 (ipykernel)",
   "language": "python",
   "name": "python3"
  },
  "language_info": {
   "codemirror_mode": {
    "name": "ipython",
    "version": 3
   },
   "file_extension": ".py",
   "mimetype": "text/x-python",
   "name": "python",
   "nbconvert_exporter": "python",
   "pygments_lexer": "ipython3",
   "version": "3.9.2"
  }
 },
 "nbformat": 4,
 "nbformat_minor": 5
}
